{
 "cells": [
  {
   "cell_type": "code",
   "execution_count": 1,
   "id": "eb2d1edf",
   "metadata": {},
   "outputs": [],
   "source": [
    "import numpy as np"
   ]
  },
  {
   "cell_type": "markdown",
   "id": "2551c081",
   "metadata": {},
   "source": [
    "#Creation of numpy array : \n",
    "    Numpy arrays are created using the three ways. "
   ]
  },
  {
   "cell_type": "code",
   "execution_count": 4,
   "id": "8e0c71ce",
   "metadata": {},
   "outputs": [],
   "source": [
    "#One dimensional\n",
    "array_1d = np.array([1,2,3,4,5])"
   ]
  },
  {
   "cell_type": "code",
   "execution_count": 5,
   "id": "621b2caa",
   "metadata": {},
   "outputs": [
    {
     "name": "stdout",
     "output_type": "stream",
     "text": [
      "[1 2 3 4 5]\n"
     ]
    }
   ],
   "source": [
    "print(array_1d)"
   ]
  },
  {
   "cell_type": "code",
   "execution_count": 6,
   "id": "880e1f48",
   "metadata": {},
   "outputs": [],
   "source": [
    "#two dimensional\n",
    "array_2d = np.array([[1,2,3,4],[5,6,7,8]])"
   ]
  },
  {
   "cell_type": "code",
   "execution_count": 7,
   "id": "e5520c05",
   "metadata": {},
   "outputs": [
    {
     "name": "stdout",
     "output_type": "stream",
     "text": [
      "[[1 2 3 4]\n",
      " [5 6 7 8]]\n"
     ]
    }
   ],
   "source": [
    "print(array_2d)"
   ]
  },
  {
   "cell_type": "code",
   "execution_count": 8,
   "id": "4c920513",
   "metadata": {},
   "outputs": [],
   "source": [
    "#3 dimensional\n",
    "array_3d = np.array([[[1,2,3,4],[5,6,7,8],[9,10,11,12]]])"
   ]
  },
  {
   "cell_type": "code",
   "execution_count": 9,
   "id": "9ce0dfd8",
   "metadata": {},
   "outputs": [
    {
     "name": "stdout",
     "output_type": "stream",
     "text": [
      "[[[ 1  2  3  4]\n",
      "  [ 5  6  7  8]\n",
      "  [ 9 10 11 12]]]\n"
     ]
    }
   ],
   "source": [
    "print(array_3d)"
   ]
  },
  {
   "cell_type": "code",
   "execution_count": 11,
   "id": "c735e0e6",
   "metadata": {},
   "outputs": [],
   "source": [
    "#zero dimensional \n",
    "array_0d = np.array(40)"
   ]
  },
  {
   "cell_type": "code",
   "execution_count": 12,
   "id": "5c07a8bc",
   "metadata": {},
   "outputs": [
    {
     "name": "stdout",
     "output_type": "stream",
     "text": [
      "40\n"
     ]
    }
   ],
   "source": [
    "print(array_0d)"
   ]
  },
  {
   "cell_type": "code",
   "execution_count": 21,
   "id": "34f6d585",
   "metadata": {},
   "outputs": [],
   "source": [
    "#1d array with arange method\n",
    "array_a_1d = np.arange(10)"
   ]
  },
  {
   "cell_type": "code",
   "execution_count": 20,
   "id": "506785f3",
   "metadata": {},
   "outputs": [
    {
     "name": "stdout",
     "output_type": "stream",
     "text": [
      "[0 1 2 3 4 5 6 7 8 9]\n"
     ]
    }
   ],
   "source": [
    "print(array_a_1d)"
   ]
  },
  {
   "cell_type": "code",
   "execution_count": 23,
   "id": "aeec39de",
   "metadata": {},
   "outputs": [
    {
     "name": "stdout",
     "output_type": "stream",
     "text": [
      "[[0 1 2 3 4]\n",
      " [5 6 7 8 9]]\n"
     ]
    }
   ],
   "source": [
    "#creation of a two dimensional \n",
    "array_a_2d = np.arange(10).reshape(2,5)\n",
    "print(array_a_2d)"
   ]
  },
  {
   "cell_type": "code",
   "execution_count": 24,
   "id": "e8b40d69",
   "metadata": {},
   "outputs": [
    {
     "name": "stdout",
     "output_type": "stream",
     "text": [
      "[[[ 0  1  2]\n",
      "  [ 3  4  5]]\n",
      "\n",
      " [[ 6  7  8]\n",
      "  [ 9 10 11]]]\n"
     ]
    }
   ],
   "source": [
    "#creation of a two dimensional \n",
    "array_a_3d = np.arange(12).reshape(2,2,3)\n",
    "print(array_a_3d)"
   ]
  },
  {
   "cell_type": "code",
   "execution_count": 29,
   "id": "90a49be6",
   "metadata": {},
   "outputs": [
    {
     "name": "stdout",
     "output_type": "stream",
     "text": [
      "[[[[ 0  1]\n",
      "   [ 2  3]\n",
      "   [ 4  5]\n",
      "   [ 6  7]]\n",
      "\n",
      "  [[ 8  9]\n",
      "   [10 11]\n",
      "   [12 13]\n",
      "   [14 15]]\n",
      "\n",
      "  [[16 17]\n",
      "   [18 19]\n",
      "   [20 21]\n",
      "   [22 23]]]\n",
      "\n",
      "\n",
      " [[[24 25]\n",
      "   [26 27]\n",
      "   [28 29]\n",
      "   [30 31]]\n",
      "\n",
      "  [[32 33]\n",
      "   [34 35]\n",
      "   [36 37]\n",
      "   [38 39]]\n",
      "\n",
      "  [[40 41]\n",
      "   [42 43]\n",
      "   [44 45]\n",
      "   [46 47]]]]\n"
     ]
    }
   ],
   "source": [
    "#4d array \n",
    "array_a_4d = np.arange(48).reshape(2,3,4,2)\n",
    "print(array_a_4d)"
   ]
  },
  {
   "cell_type": "code",
   "execution_count": 34,
   "id": "8fb38500",
   "metadata": {},
   "outputs": [
    {
     "name": "stdout",
     "output_type": "stream",
     "text": [
      "[100.         105.55555556 111.11111111 116.66666667 122.22222222\n",
      " 127.77777778 133.33333333 138.88888889 144.44444444 150.        ]\n",
      "[[100.         105.55555556 111.11111111 116.66666667 122.22222222]\n",
      " [127.77777778 133.33333333 138.88888889 144.44444444 150.        ]]\n"
     ]
    }
   ],
   "source": [
    "#using np.linspace to create 1d array\n",
    "array_linspace_1d = np.linspace(100,150,10)\n",
    "print(array_linspace_1d)\n",
    "#using np.linspace to create 2d array\n",
    "array_linspace_2d = np.linspace(100,150,10).reshape(2,5)\n",
    "print(array_linspace_2d)"
   ]
  },
  {
   "cell_type": "code",
   "execution_count": 43,
   "id": "7b8f4907",
   "metadata": {},
   "outputs": [
    {
     "name": "stdout",
     "output_type": "stream",
     "text": [
      "[0. 0. 0. 0. 0. 0. 0. 0. 0. 0.]\n",
      "[[0. 0. 0. 0. 0.]\n",
      " [0. 0. 0. 0. 0.]]\n",
      "[1. 1. 1. 1. 1. 1. 1. 1. 1. 1.]\n",
      "[[1. 1. 1. 1. 1.]\n",
      " [1. 1. 1. 1. 1.]]\n",
      "[[1. 0.]\n",
      " [0. 1.]]\n",
      "[[1. 0. 0. 0. 0. 0. 0. 0. 0. 0.]\n",
      " [0. 1. 0. 0. 0. 0. 0. 0. 0. 0.]\n",
      " [0. 0. 1. 0. 0. 0. 0. 0. 0. 0.]\n",
      " [0. 0. 0. 1. 0. 0. 0. 0. 0. 0.]\n",
      " [0. 0. 0. 0. 1. 0. 0. 0. 0. 0.]\n",
      " [0. 0. 0. 0. 0. 1. 0. 0. 0. 0.]\n",
      " [0. 0. 0. 0. 0. 0. 1. 0. 0. 0.]\n",
      " [0. 0. 0. 0. 0. 0. 0. 1. 0. 0.]\n",
      " [0. 0. 0. 0. 0. 0. 0. 0. 1. 0.]\n",
      " [0. 0. 0. 0. 0. 0. 0. 0. 0. 1.]]\n"
     ]
    }
   ],
   "source": [
    "\n",
    "arr_zero_1d = np.zeros(10)\n",
    "print(arr_zero_1d)\n",
    "\n",
    "arr_zero_2d = np.zeros(10).reshape(2,5)\n",
    "print(arr_zero_2d)\n",
    "\n",
    "arr_ones_1d = np.ones(10)\n",
    "print(arr_ones_1d)\n",
    "\n",
    "arr_one_2d = np.ones(10).reshape(2,5)\n",
    "print(arr_one_2d)\n",
    "\n",
    "arr_id_1d = np.identity(2)\n",
    "print(arr_id_1d)\n",
    "\n",
    "arr_id_2d = np.identity(10).reshape(10,10)\n",
    "print(arr_id_2d)\n",
    "\n"
   ]
  },
  {
   "cell_type": "code",
   "execution_count": null,
   "id": "e40404cf",
   "metadata": {},
   "outputs": [],
   "source": []
  }
 ],
 "metadata": {
  "kernelspec": {
   "display_name": "Python 3 (ipykernel)",
   "language": "python",
   "name": "python3"
  },
  "language_info": {
   "codemirror_mode": {
    "name": "ipython",
    "version": 3
   },
   "file_extension": ".py",
   "mimetype": "text/x-python",
   "name": "python",
   "nbconvert_exporter": "python",
   "pygments_lexer": "ipython3",
   "version": "3.9.12"
  }
 },
 "nbformat": 4,
 "nbformat_minor": 5
}
